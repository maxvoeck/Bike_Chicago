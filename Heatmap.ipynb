{
 "cells": [
  {
   "cell_type": "code",
   "execution_count": 7,
   "metadata": {},
   "outputs": [],
   "source": [
    "import pandas as pd\n",
    "import folium\n",
    "from folium.plugins import HeatMap\n",
    "from geopy.distance import geodesic"
   ]
  },
  {
   "cell_type": "code",
   "execution_count": 8,
   "metadata": {},
   "outputs": [],
   "source": [
    "df = pd.read_csv('Bike_clean.csv')"
   ]
  },
  {
   "cell_type": "code",
   "execution_count": 9,
   "metadata": {},
   "outputs": [
    {
     "data": {
      "text/html": [
       "<div>\n",
       "<style scoped>\n",
       "    .dataframe tbody tr th:only-of-type {\n",
       "        vertical-align: middle;\n",
       "    }\n",
       "\n",
       "    .dataframe tbody tr th {\n",
       "        vertical-align: top;\n",
       "    }\n",
       "\n",
       "    .dataframe thead th {\n",
       "        text-align: right;\n",
       "    }\n",
       "</style>\n",
       "<table border=\"1\" class=\"dataframe\">\n",
       "  <thead>\n",
       "    <tr style=\"text-align: right;\">\n",
       "      <th></th>\n",
       "      <th>rideable_type</th>\n",
       "      <th>started_at</th>\n",
       "      <th>start_station_name</th>\n",
       "      <th>end_station_name</th>\n",
       "      <th>start_lat</th>\n",
       "      <th>start_lng</th>\n",
       "      <th>end_lat</th>\n",
       "      <th>end_lng</th>\n",
       "      <th>member_casual</th>\n",
       "      <th>duration</th>\n",
       "      <th>start_hour</th>\n",
       "      <th>weekday</th>\n",
       "    </tr>\n",
       "  </thead>\n",
       "  <tbody>\n",
       "    <tr>\n",
       "      <th>0</th>\n",
       "      <td>electric_bike</td>\n",
       "      <td>2022-01-13 11:59:47</td>\n",
       "      <td>Glenwood Ave &amp; Touhy Ave</td>\n",
       "      <td>Clark St &amp; Touhy Ave</td>\n",
       "      <td>42.012800</td>\n",
       "      <td>-87.665906</td>\n",
       "      <td>42.012560</td>\n",
       "      <td>-87.674367</td>\n",
       "      <td>casual</td>\n",
       "      <td>177.0</td>\n",
       "      <td>11</td>\n",
       "      <td>3</td>\n",
       "    </tr>\n",
       "    <tr>\n",
       "      <th>1</th>\n",
       "      <td>electric_bike</td>\n",
       "      <td>2022-01-10 08:41:56</td>\n",
       "      <td>Glenwood Ave &amp; Touhy Ave</td>\n",
       "      <td>Clark St &amp; Touhy Ave</td>\n",
       "      <td>42.012763</td>\n",
       "      <td>-87.665968</td>\n",
       "      <td>42.012560</td>\n",
       "      <td>-87.674367</td>\n",
       "      <td>casual</td>\n",
       "      <td>261.0</td>\n",
       "      <td>8</td>\n",
       "      <td>0</td>\n",
       "    </tr>\n",
       "    <tr>\n",
       "      <th>2</th>\n",
       "      <td>classic_bike</td>\n",
       "      <td>2022-01-25 04:53:40</td>\n",
       "      <td>Sheffield Ave &amp; Fullerton Ave</td>\n",
       "      <td>Greenview Ave &amp; Fullerton Ave</td>\n",
       "      <td>41.925602</td>\n",
       "      <td>-87.653708</td>\n",
       "      <td>41.925330</td>\n",
       "      <td>-87.665800</td>\n",
       "      <td>member</td>\n",
       "      <td>261.0</td>\n",
       "      <td>4</td>\n",
       "      <td>1</td>\n",
       "    </tr>\n",
       "    <tr>\n",
       "      <th>3</th>\n",
       "      <td>classic_bike</td>\n",
       "      <td>2022-01-04 00:18:04</td>\n",
       "      <td>Clark St &amp; Bryn Mawr Ave</td>\n",
       "      <td>Paulina St &amp; Montrose Ave</td>\n",
       "      <td>41.983593</td>\n",
       "      <td>-87.669154</td>\n",
       "      <td>41.961507</td>\n",
       "      <td>-87.671387</td>\n",
       "      <td>casual</td>\n",
       "      <td>896.0</td>\n",
       "      <td>0</td>\n",
       "      <td>1</td>\n",
       "    </tr>\n",
       "    <tr>\n",
       "      <th>4</th>\n",
       "      <td>classic_bike</td>\n",
       "      <td>2022-01-20 01:31:10</td>\n",
       "      <td>Michigan Ave &amp; Jackson Blvd</td>\n",
       "      <td>State St &amp; Randolph St</td>\n",
       "      <td>41.877850</td>\n",
       "      <td>-87.624080</td>\n",
       "      <td>41.884621</td>\n",
       "      <td>-87.627834</td>\n",
       "      <td>member</td>\n",
       "      <td>362.0</td>\n",
       "      <td>1</td>\n",
       "      <td>3</td>\n",
       "    </tr>\n",
       "  </tbody>\n",
       "</table>\n",
       "</div>"
      ],
      "text/plain": [
       "   rideable_type           started_at             start_station_name  \\\n",
       "0  electric_bike  2022-01-13 11:59:47       Glenwood Ave & Touhy Ave   \n",
       "1  electric_bike  2022-01-10 08:41:56       Glenwood Ave & Touhy Ave   \n",
       "2   classic_bike  2022-01-25 04:53:40  Sheffield Ave & Fullerton Ave   \n",
       "3   classic_bike  2022-01-04 00:18:04       Clark St & Bryn Mawr Ave   \n",
       "4   classic_bike  2022-01-20 01:31:10    Michigan Ave & Jackson Blvd   \n",
       "\n",
       "                end_station_name  start_lat  start_lng    end_lat    end_lng  \\\n",
       "0           Clark St & Touhy Ave  42.012800 -87.665906  42.012560 -87.674367   \n",
       "1           Clark St & Touhy Ave  42.012763 -87.665968  42.012560 -87.674367   \n",
       "2  Greenview Ave & Fullerton Ave  41.925602 -87.653708  41.925330 -87.665800   \n",
       "3      Paulina St & Montrose Ave  41.983593 -87.669154  41.961507 -87.671387   \n",
       "4         State St & Randolph St  41.877850 -87.624080  41.884621 -87.627834   \n",
       "\n",
       "  member_casual  duration  start_hour  weekday  \n",
       "0        casual     177.0          11        3  \n",
       "1        casual     261.0           8        0  \n",
       "2        member     261.0           4        1  \n",
       "3        casual     896.0           0        1  \n",
       "4        member     362.0           1        3  "
      ]
     },
     "execution_count": 9,
     "metadata": {},
     "output_type": "execute_result"
    }
   ],
   "source": [
    "df.head()"
   ]
  },
  {
   "cell_type": "code",
   "execution_count": 10,
   "metadata": {},
   "outputs": [],
   "source": [
    "heat_start = df[['start_lat', 'start_lng']]\n",
    "heat_end = df[['end_lat', 'end_lng']]"
   ]
  },
  {
   "cell_type": "code",
   "execution_count": 13,
   "metadata": {},
   "outputs": [],
   "source": [
    "# Erstellen einer Folium-Karte mit Startkoordinaten und Zoomstufe\n",
    "m = folium.Map([41.89, -87.65], zoom_start=14)\n",
    "\n",
    "# HeatMap-Funktion wird verwendet, um eine Heatmap zur Karte hinzuzufügen\n",
    "HeatMap(heat_start).add_to(m)\n",
    "\n",
    "# Die Karte anzeigen\n",
    "m.save('heatmap_map.html')"
   ]
  },
  {
   "cell_type": "markdown",
   "metadata": {},
   "source": [
    "**City Center of Chicago:**\n",
    "The city center emerges as the primary hub for bike rides, demonstrating a high concentration of starting points. This observation aligns with the bustling urban lifestyle, suggesting that the bike-sharing service is extensively utilized by residents and visitors navigating the vibrant cityscape. The prevalence of bike rides originating in the city center underscores the service's contribution to sustainable and efficient urban mobility.\n",
    "\n",
    "**University of Chicago:**\n",
    "Notably, the University of Chicago stands out as a significant secondary starting point for bike rides. This suggests a distinct biking culture around the university campus, with students, faculty, and staff actively engaging in bike-sharing for their commuting needs. The prevalence of bike rides in this academic setting may be attributed to the accessibility and convenience that bike-sharing offers within the university community."
   ]
  },
  {
   "cell_type": "code",
   "execution_count": null,
   "metadata": {},
   "outputs": [],
   "source": []
  }
 ],
 "metadata": {
  "kernelspec": {
   "display_name": "Python 3",
   "language": "python",
   "name": "python3"
  },
  "language_info": {
   "codemirror_mode": {
    "name": "ipython",
    "version": 3
   },
   "file_extension": ".py",
   "mimetype": "text/x-python",
   "name": "python",
   "nbconvert_exporter": "python",
   "pygments_lexer": "ipython3",
   "version": "3.8.3"
  }
 },
 "nbformat": 4,
 "nbformat_minor": 4
}
